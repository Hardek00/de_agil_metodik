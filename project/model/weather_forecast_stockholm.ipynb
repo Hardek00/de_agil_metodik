{
 "cells": [
  {
   "cell_type": "code",
   "execution_count": 22,
   "id": "0f428d1c-7425-41dd-b14f-7a7e10570618",
   "metadata": {},
   "outputs": [],
   "source": [
    "import pandas as pd"
   ]
  },
  {
   "cell_type": "code",
   "execution_count": 23,
   "id": "ecd2471d-8652-400d-ad26-22220be2f79e",
   "metadata": {},
   "outputs": [],
   "source": [
    "# Load the data\n",
    "df = pd.read_csv(\"weather_data.csv\")"
   ]
  },
  {
   "cell_type": "code",
   "execution_count": 24,
   "id": "f8591f2f-fde9-4426-a77e-f3fe824a0b71",
   "metadata": {},
   "outputs": [],
   "source": [
    "# Generate time-based features\n",
    "df['hour'] = pd.to_datetime(df['dt'],unit='s').dt.hour\n",
    "df['month'] = pd.to_datetime(df['dt'],unit='s').dt.month\n",
    "\n",
    "# Generate target temperature feature (Max temperature of the next 24 hours)\n",
    "df['temp_target'] = df['temp'].shift(-1).rolling(24).max()\n",
    "\n",
    "# Generate lag features (e.g., temperature 1 hour ago)\n",
    "df['temp_lag_1'] = df['temp'].shift(1)\n",
    "df['temp_lag_3'] = df['temp'].shift(3)"
   ]
  },
  {
   "cell_type": "code",
   "execution_count": 25,
   "id": "655960f5-ea55-41f2-8265-1be17437a940",
   "metadata": {},
   "outputs": [],
   "source": [
    "parsed_df = df[\n",
    "    [\n",
    "        'dt','dt_iso','timezone','city_name','lat','lon','temp','humidity','pressure','hour','month','temp_target','temp_lag_1','temp_lag_3'\n",
    "    ]\n",
    "]"
   ]
  },
  {
   "cell_type": "code",
   "execution_count": 26,
   "id": "89aafe11-78f1-4dc8-84f9-7a668d454f78",
   "metadata": {},
   "outputs": [],
   "source": [
    "parsed_df = parsed_df.dropna()"
   ]
  },
  {
   "cell_type": "code",
   "execution_count": 27,
   "id": "1bad900b-2f12-48e7-87af-aed7ec553fea",
   "metadata": {},
   "outputs": [
    {
     "data": {
      "text/html": [
       "<div>\n",
       "<style scoped>\n",
       "    .dataframe tbody tr th:only-of-type {\n",
       "        vertical-align: middle;\n",
       "    }\n",
       "\n",
       "    .dataframe tbody tr th {\n",
       "        vertical-align: top;\n",
       "    }\n",
       "\n",
       "    .dataframe thead th {\n",
       "        text-align: right;\n",
       "    }\n",
       "</style>\n",
       "<table border=\"1\" class=\"dataframe\">\n",
       "  <thead>\n",
       "    <tr style=\"text-align: right;\">\n",
       "      <th></th>\n",
       "      <th>dt</th>\n",
       "      <th>dt_iso</th>\n",
       "      <th>timezone</th>\n",
       "      <th>city_name</th>\n",
       "      <th>lat</th>\n",
       "      <th>lon</th>\n",
       "      <th>temp</th>\n",
       "      <th>humidity</th>\n",
       "      <th>pressure</th>\n",
       "      <th>hour</th>\n",
       "      <th>month</th>\n",
       "      <th>temp_target</th>\n",
       "      <th>temp_lag_1</th>\n",
       "      <th>temp_lag_3</th>\n",
       "    </tr>\n",
       "  </thead>\n",
       "  <tbody>\n",
       "    <tr>\n",
       "      <th>23</th>\n",
       "      <td>1072998000</td>\n",
       "      <td>2004-01-01 23:00:00 +0000 UTC</td>\n",
       "      <td>3600</td>\n",
       "      <td>Stockholm</td>\n",
       "      <td>59.329323</td>\n",
       "      <td>18.068581</td>\n",
       "      <td>-7.13</td>\n",
       "      <td>85</td>\n",
       "      <td>1029</td>\n",
       "      <td>23</td>\n",
       "      <td>1</td>\n",
       "      <td>-2.25</td>\n",
       "      <td>-6.93</td>\n",
       "      <td>-6.35</td>\n",
       "    </tr>\n",
       "    <tr>\n",
       "      <th>24</th>\n",
       "      <td>1073001600</td>\n",
       "      <td>2004-01-02 00:00:00 +0000 UTC</td>\n",
       "      <td>3600</td>\n",
       "      <td>Stockholm</td>\n",
       "      <td>59.329323</td>\n",
       "      <td>18.068581</td>\n",
       "      <td>-7.57</td>\n",
       "      <td>88</td>\n",
       "      <td>1029</td>\n",
       "      <td>0</td>\n",
       "      <td>1</td>\n",
       "      <td>-2.38</td>\n",
       "      <td>-7.13</td>\n",
       "      <td>-6.10</td>\n",
       "    </tr>\n",
       "    <tr>\n",
       "      <th>25</th>\n",
       "      <td>1073005200</td>\n",
       "      <td>2004-01-02 01:00:00 +0000 UTC</td>\n",
       "      <td>3600</td>\n",
       "      <td>Stockholm</td>\n",
       "      <td>59.329323</td>\n",
       "      <td>18.068581</td>\n",
       "      <td>-7.18</td>\n",
       "      <td>85</td>\n",
       "      <td>1029</td>\n",
       "      <td>1</td>\n",
       "      <td>1</td>\n",
       "      <td>-2.56</td>\n",
       "      <td>-7.57</td>\n",
       "      <td>-6.93</td>\n",
       "    </tr>\n",
       "    <tr>\n",
       "      <th>26</th>\n",
       "      <td>1073008800</td>\n",
       "      <td>2004-01-02 02:00:00 +0000 UTC</td>\n",
       "      <td>3600</td>\n",
       "      <td>Stockholm</td>\n",
       "      <td>59.329323</td>\n",
       "      <td>18.068581</td>\n",
       "      <td>-7.67</td>\n",
       "      <td>92</td>\n",
       "      <td>1030</td>\n",
       "      <td>2</td>\n",
       "      <td>1</td>\n",
       "      <td>-2.56</td>\n",
       "      <td>-7.18</td>\n",
       "      <td>-7.13</td>\n",
       "    </tr>\n",
       "    <tr>\n",
       "      <th>27</th>\n",
       "      <td>1073012400</td>\n",
       "      <td>2004-01-02 03:00:00 +0000 UTC</td>\n",
       "      <td>3600</td>\n",
       "      <td>Stockholm</td>\n",
       "      <td>59.329323</td>\n",
       "      <td>18.068581</td>\n",
       "      <td>-8.36</td>\n",
       "      <td>87</td>\n",
       "      <td>1030</td>\n",
       "      <td>3</td>\n",
       "      <td>1</td>\n",
       "      <td>-2.76</td>\n",
       "      <td>-7.67</td>\n",
       "      <td>-7.57</td>\n",
       "    </tr>\n",
       "    <tr>\n",
       "      <th>...</th>\n",
       "      <td>...</td>\n",
       "      <td>...</td>\n",
       "      <td>...</td>\n",
       "      <td>...</td>\n",
       "      <td>...</td>\n",
       "      <td>...</td>\n",
       "      <td>...</td>\n",
       "      <td>...</td>\n",
       "      <td>...</td>\n",
       "      <td>...</td>\n",
       "      <td>...</td>\n",
       "      <td>...</td>\n",
       "      <td>...</td>\n",
       "      <td>...</td>\n",
       "    </tr>\n",
       "    <tr>\n",
       "      <th>183835</th>\n",
       "      <td>1723399200</td>\n",
       "      <td>2024-08-11 18:00:00 +0000 UTC</td>\n",
       "      <td>7200</td>\n",
       "      <td>Stockholm</td>\n",
       "      <td>59.329323</td>\n",
       "      <td>18.068581</td>\n",
       "      <td>20.43</td>\n",
       "      <td>56</td>\n",
       "      <td>1009</td>\n",
       "      <td>18</td>\n",
       "      <td>8</td>\n",
       "      <td>22.06</td>\n",
       "      <td>20.71</td>\n",
       "      <td>21.82</td>\n",
       "    </tr>\n",
       "    <tr>\n",
       "      <th>183836</th>\n",
       "      <td>1723402800</td>\n",
       "      <td>2024-08-11 19:00:00 +0000 UTC</td>\n",
       "      <td>7200</td>\n",
       "      <td>Stockholm</td>\n",
       "      <td>59.329323</td>\n",
       "      <td>18.068581</td>\n",
       "      <td>18.29</td>\n",
       "      <td>62</td>\n",
       "      <td>1009</td>\n",
       "      <td>19</td>\n",
       "      <td>8</td>\n",
       "      <td>22.06</td>\n",
       "      <td>20.43</td>\n",
       "      <td>21.71</td>\n",
       "    </tr>\n",
       "    <tr>\n",
       "      <th>183837</th>\n",
       "      <td>1723406400</td>\n",
       "      <td>2024-08-11 20:00:00 +0000 UTC</td>\n",
       "      <td>7200</td>\n",
       "      <td>Stockholm</td>\n",
       "      <td>59.329323</td>\n",
       "      <td>18.068581</td>\n",
       "      <td>17.32</td>\n",
       "      <td>74</td>\n",
       "      <td>1010</td>\n",
       "      <td>20</td>\n",
       "      <td>8</td>\n",
       "      <td>22.06</td>\n",
       "      <td>18.29</td>\n",
       "      <td>20.71</td>\n",
       "    </tr>\n",
       "    <tr>\n",
       "      <th>183838</th>\n",
       "      <td>1723410000</td>\n",
       "      <td>2024-08-11 21:00:00 +0000 UTC</td>\n",
       "      <td>7200</td>\n",
       "      <td>Stockholm</td>\n",
       "      <td>59.329323</td>\n",
       "      <td>18.068581</td>\n",
       "      <td>15.59</td>\n",
       "      <td>82</td>\n",
       "      <td>1010</td>\n",
       "      <td>21</td>\n",
       "      <td>8</td>\n",
       "      <td>22.06</td>\n",
       "      <td>17.32</td>\n",
       "      <td>20.43</td>\n",
       "    </tr>\n",
       "    <tr>\n",
       "      <th>183839</th>\n",
       "      <td>1723413600</td>\n",
       "      <td>2024-08-11 22:00:00 +0000 UTC</td>\n",
       "      <td>7200</td>\n",
       "      <td>Stockholm</td>\n",
       "      <td>59.329323</td>\n",
       "      <td>18.068581</td>\n",
       "      <td>17.32</td>\n",
       "      <td>65</td>\n",
       "      <td>1010</td>\n",
       "      <td>22</td>\n",
       "      <td>8</td>\n",
       "      <td>22.06</td>\n",
       "      <td>15.59</td>\n",
       "      <td>18.29</td>\n",
       "    </tr>\n",
       "  </tbody>\n",
       "</table>\n",
       "<p>183817 rows × 14 columns</p>\n",
       "</div>"
      ],
      "text/plain": [
       "                dt                         dt_iso  timezone  city_name  \\\n",
       "23      1072998000  2004-01-01 23:00:00 +0000 UTC      3600  Stockholm   \n",
       "24      1073001600  2004-01-02 00:00:00 +0000 UTC      3600  Stockholm   \n",
       "25      1073005200  2004-01-02 01:00:00 +0000 UTC      3600  Stockholm   \n",
       "26      1073008800  2004-01-02 02:00:00 +0000 UTC      3600  Stockholm   \n",
       "27      1073012400  2004-01-02 03:00:00 +0000 UTC      3600  Stockholm   \n",
       "...            ...                            ...       ...        ...   \n",
       "183835  1723399200  2024-08-11 18:00:00 +0000 UTC      7200  Stockholm   \n",
       "183836  1723402800  2024-08-11 19:00:00 +0000 UTC      7200  Stockholm   \n",
       "183837  1723406400  2024-08-11 20:00:00 +0000 UTC      7200  Stockholm   \n",
       "183838  1723410000  2024-08-11 21:00:00 +0000 UTC      7200  Stockholm   \n",
       "183839  1723413600  2024-08-11 22:00:00 +0000 UTC      7200  Stockholm   \n",
       "\n",
       "              lat        lon   temp  humidity  pressure  hour  month  \\\n",
       "23      59.329323  18.068581  -7.13        85      1029    23      1   \n",
       "24      59.329323  18.068581  -7.57        88      1029     0      1   \n",
       "25      59.329323  18.068581  -7.18        85      1029     1      1   \n",
       "26      59.329323  18.068581  -7.67        92      1030     2      1   \n",
       "27      59.329323  18.068581  -8.36        87      1030     3      1   \n",
       "...           ...        ...    ...       ...       ...   ...    ...   \n",
       "183835  59.329323  18.068581  20.43        56      1009    18      8   \n",
       "183836  59.329323  18.068581  18.29        62      1009    19      8   \n",
       "183837  59.329323  18.068581  17.32        74      1010    20      8   \n",
       "183838  59.329323  18.068581  15.59        82      1010    21      8   \n",
       "183839  59.329323  18.068581  17.32        65      1010    22      8   \n",
       "\n",
       "        temp_target  temp_lag_1  temp_lag_3  \n",
       "23            -2.25       -6.93       -6.35  \n",
       "24            -2.38       -7.13       -6.10  \n",
       "25            -2.56       -7.57       -6.93  \n",
       "26            -2.56       -7.18       -7.13  \n",
       "27            -2.76       -7.67       -7.57  \n",
       "...             ...         ...         ...  \n",
       "183835        22.06       20.71       21.82  \n",
       "183836        22.06       20.43       21.71  \n",
       "183837        22.06       18.29       20.71  \n",
       "183838        22.06       17.32       20.43  \n",
       "183839        22.06       15.59       18.29  \n",
       "\n",
       "[183817 rows x 14 columns]"
      ]
     },
     "execution_count": 27,
     "metadata": {},
     "output_type": "execute_result"
    }
   ],
   "source": [
    "parsed_df"
   ]
  },
  {
   "cell_type": "code",
   "execution_count": 28,
   "id": "8274faba-4d10-45a3-ad59-70f57ff2a7a9",
   "metadata": {},
   "outputs": [],
   "source": [
    "parsed_df.to_csv(\"processed_weather_data.csv\", index=False)"
   ]
  },
  {
   "cell_type": "code",
   "execution_count": 29,
   "id": "07ef8cd2",
   "metadata": {},
   "outputs": [
    {
     "name": "stdout",
     "output_type": "stream",
     "text": [
      "Requirement already satisfied: xgboost==2.1.1 in c:\\users\\m_was\\anaconda3\\lib\\site-packages (2.1.1)\n",
      "Requirement already satisfied: numpy in c:\\users\\m_was\\anaconda3\\lib\\site-packages (from xgboost==2.1.1) (1.24.3)\n",
      "Requirement already satisfied: scipy in c:\\users\\m_was\\anaconda3\\lib\\site-packages (from xgboost==2.1.1) (1.10.1)\n",
      "Note: you may need to restart the kernel to use updated packages.\n"
     ]
    }
   ],
   "source": [
    "%pip install xgboost==2.1.1"
   ]
  },
  {
   "cell_type": "code",
   "execution_count": 30,
   "id": "42409eeb-6f60-48c1-b22c-8956507197e7",
   "metadata": {},
   "outputs": [],
   "source": [
    "from sklearn.model_selection import train_test_split\n",
    "from sklearn.metrics import mean_absolute_error, mean_squared_error\n",
    "from math import sqrt\n",
    "import xgboost as xgb\n",
    "import joblib"
   ]
  },
  {
   "cell_type": "code",
   "execution_count": 31,
   "id": "262d315e-ea6c-452a-9db3-6c241f4dc5fa",
   "metadata": {},
   "outputs": [],
   "source": [
    "# Load the processed data\n",
    "df = pd.read_csv(\"processed_weather_data.csv\")"
   ]
  },
  {
   "cell_type": "code",
   "execution_count": 32,
   "id": "24bfd1fa-bdd5-47c8-b28d-2afb9a933ec5",
   "metadata": {},
   "outputs": [],
   "source": [
    "# Feature selection\n",
    "X = df[['hour', 'month', 'temp','humidity','pressure','temp_lag_1','temp_lag_3']]\n",
    "y = df['temp_target']"
   ]
  },
  {
   "cell_type": "code",
   "execution_count": 33,
   "id": "fcf9272a-c121-4506-b58e-4f95bfc2f7b2",
   "metadata": {},
   "outputs": [],
   "source": [
    "# Train-test split\n",
    "X_train, X_test, y_train, y_test = train_test_split(X, y, test_size=0.2, random_state=42)"
   ]
  },
  {
   "cell_type": "code",
   "execution_count": 34,
   "id": "9c6e8d6f-213b-43ae-806a-11587d70f3f9",
   "metadata": {},
   "outputs": [
    {
     "data": {
      "text/html": [
       "<style>#sk-container-id-2 {color: black;}#sk-container-id-2 pre{padding: 0;}#sk-container-id-2 div.sk-toggleable {background-color: white;}#sk-container-id-2 label.sk-toggleable__label {cursor: pointer;display: block;width: 100%;margin-bottom: 0;padding: 0.3em;box-sizing: border-box;text-align: center;}#sk-container-id-2 label.sk-toggleable__label-arrow:before {content: \"▸\";float: left;margin-right: 0.25em;color: #696969;}#sk-container-id-2 label.sk-toggleable__label-arrow:hover:before {color: black;}#sk-container-id-2 div.sk-estimator:hover label.sk-toggleable__label-arrow:before {color: black;}#sk-container-id-2 div.sk-toggleable__content {max-height: 0;max-width: 0;overflow: hidden;text-align: left;background-color: #f0f8ff;}#sk-container-id-2 div.sk-toggleable__content pre {margin: 0.2em;color: black;border-radius: 0.25em;background-color: #f0f8ff;}#sk-container-id-2 input.sk-toggleable__control:checked~div.sk-toggleable__content {max-height: 200px;max-width: 100%;overflow: auto;}#sk-container-id-2 input.sk-toggleable__control:checked~label.sk-toggleable__label-arrow:before {content: \"▾\";}#sk-container-id-2 div.sk-estimator input.sk-toggleable__control:checked~label.sk-toggleable__label {background-color: #d4ebff;}#sk-container-id-2 div.sk-label input.sk-toggleable__control:checked~label.sk-toggleable__label {background-color: #d4ebff;}#sk-container-id-2 input.sk-hidden--visually {border: 0;clip: rect(1px 1px 1px 1px);clip: rect(1px, 1px, 1px, 1px);height: 1px;margin: -1px;overflow: hidden;padding: 0;position: absolute;width: 1px;}#sk-container-id-2 div.sk-estimator {font-family: monospace;background-color: #f0f8ff;border: 1px dotted black;border-radius: 0.25em;box-sizing: border-box;margin-bottom: 0.5em;}#sk-container-id-2 div.sk-estimator:hover {background-color: #d4ebff;}#sk-container-id-2 div.sk-parallel-item::after {content: \"\";width: 100%;border-bottom: 1px solid gray;flex-grow: 1;}#sk-container-id-2 div.sk-label:hover label.sk-toggleable__label {background-color: #d4ebff;}#sk-container-id-2 div.sk-serial::before {content: \"\";position: absolute;border-left: 1px solid gray;box-sizing: border-box;top: 0;bottom: 0;left: 50%;z-index: 0;}#sk-container-id-2 div.sk-serial {display: flex;flex-direction: column;align-items: center;background-color: white;padding-right: 0.2em;padding-left: 0.2em;position: relative;}#sk-container-id-2 div.sk-item {position: relative;z-index: 1;}#sk-container-id-2 div.sk-parallel {display: flex;align-items: stretch;justify-content: center;background-color: white;position: relative;}#sk-container-id-2 div.sk-item::before, #sk-container-id-2 div.sk-parallel-item::before {content: \"\";position: absolute;border-left: 1px solid gray;box-sizing: border-box;top: 0;bottom: 0;left: 50%;z-index: -1;}#sk-container-id-2 div.sk-parallel-item {display: flex;flex-direction: column;z-index: 1;position: relative;background-color: white;}#sk-container-id-2 div.sk-parallel-item:first-child::after {align-self: flex-end;width: 50%;}#sk-container-id-2 div.sk-parallel-item:last-child::after {align-self: flex-start;width: 50%;}#sk-container-id-2 div.sk-parallel-item:only-child::after {width: 0;}#sk-container-id-2 div.sk-dashed-wrapped {border: 1px dashed gray;margin: 0 0.4em 0.5em 0.4em;box-sizing: border-box;padding-bottom: 0.4em;background-color: white;}#sk-container-id-2 div.sk-label label {font-family: monospace;font-weight: bold;display: inline-block;line-height: 1.2em;}#sk-container-id-2 div.sk-label-container {text-align: center;}#sk-container-id-2 div.sk-container {/* jupyter's `normalize.less` sets `[hidden] { display: none; }` but bootstrap.min.css set `[hidden] { display: none !important; }` so we also need the `!important` here to be able to override the default hidden behavior on the sphinx rendered scikit-learn.org. See: https://github.com/scikit-learn/scikit-learn/issues/21755 */display: inline-block !important;position: relative;}#sk-container-id-2 div.sk-text-repr-fallback {display: none;}</style><div id=\"sk-container-id-2\" class=\"sk-top-container\"><div class=\"sk-text-repr-fallback\"><pre>XGBRegressor(base_score=None, booster=None, callbacks=None,\n",
       "             colsample_bylevel=None, colsample_bynode=None,\n",
       "             colsample_bytree=None, device=None, early_stopping_rounds=None,\n",
       "             enable_categorical=False, eval_metric=None, feature_types=None,\n",
       "             gamma=None, grow_policy=None, importance_type=None,\n",
       "             interaction_constraints=None, learning_rate=0.1, max_bin=None,\n",
       "             max_cat_threshold=None, max_cat_to_onehot=None,\n",
       "             max_delta_step=None, max_depth=3, max_leaves=None,\n",
       "             min_child_weight=None, missing=nan, monotone_constraints=None,\n",
       "             multi_strategy=None, n_estimators=100, n_jobs=None,\n",
       "             num_parallel_tree=None, random_state=None, ...)</pre><b>In a Jupyter environment, please rerun this cell to show the HTML representation or trust the notebook. <br />On GitHub, the HTML representation is unable to render, please try loading this page with nbviewer.org.</b></div><div class=\"sk-container\" hidden><div class=\"sk-item\"><div class=\"sk-estimator sk-toggleable\"><input class=\"sk-toggleable__control sk-hidden--visually\" id=\"sk-estimator-id-2\" type=\"checkbox\" checked><label for=\"sk-estimator-id-2\" class=\"sk-toggleable__label sk-toggleable__label-arrow\">XGBRegressor</label><div class=\"sk-toggleable__content\"><pre>XGBRegressor(base_score=None, booster=None, callbacks=None,\n",
       "             colsample_bylevel=None, colsample_bynode=None,\n",
       "             colsample_bytree=None, device=None, early_stopping_rounds=None,\n",
       "             enable_categorical=False, eval_metric=None, feature_types=None,\n",
       "             gamma=None, grow_policy=None, importance_type=None,\n",
       "             interaction_constraints=None, learning_rate=0.1, max_bin=None,\n",
       "             max_cat_threshold=None, max_cat_to_onehot=None,\n",
       "             max_delta_step=None, max_depth=3, max_leaves=None,\n",
       "             min_child_weight=None, missing=nan, monotone_constraints=None,\n",
       "             multi_strategy=None, n_estimators=100, n_jobs=None,\n",
       "             num_parallel_tree=None, random_state=None, ...)</pre></div></div></div></div></div>"
      ],
      "text/plain": [
       "XGBRegressor(base_score=None, booster=None, callbacks=None,\n",
       "             colsample_bylevel=None, colsample_bynode=None,\n",
       "             colsample_bytree=None, device=None, early_stopping_rounds=None,\n",
       "             enable_categorical=False, eval_metric=None, feature_types=None,\n",
       "             gamma=None, grow_policy=None, importance_type=None,\n",
       "             interaction_constraints=None, learning_rate=0.1, max_bin=None,\n",
       "             max_cat_threshold=None, max_cat_to_onehot=None,\n",
       "             max_delta_step=None, max_depth=3, max_leaves=None,\n",
       "             min_child_weight=None, missing=nan, monotone_constraints=None,\n",
       "             multi_strategy=None, n_estimators=100, n_jobs=None,\n",
       "             num_parallel_tree=None, random_state=None, ...)"
      ]
     },
     "execution_count": 34,
     "metadata": {},
     "output_type": "execute_result"
    }
   ],
   "source": [
    "# XGBoost model\n",
    "model = xgb.XGBRegressor(objective='reg:squarederror', n_estimators=100, max_depth=3, learning_rate=0.1)\n",
    "model.fit(X_train, y_train)"
   ]
  },
  {
   "cell_type": "code",
   "execution_count": 35,
   "id": "63de42fe-7098-4d97-bb67-6d7d0f5f37a7",
   "metadata": {},
   "outputs": [
    {
     "name": "stdout",
     "output_type": "stream",
     "text": [
      "Mean Absolute Error: 1.43°C\n",
      "Root Mean Squared Error: 1.89°C\n"
     ]
    }
   ],
   "source": [
    "# Model evaluation\n",
    "y_pred = model.predict(X_test)\n",
    "mae = mean_absolute_error(y_test, y_pred)\n",
    "print(f\"Mean Absolute Error: {mae:.2f}°C\")\n",
    "rmse = sqrt(mean_squared_error(y_test, y_pred))\n",
    "print(f\"Root Mean Squared Error: {rmse:.2f}°C\")"
   ]
  },
  {
   "cell_type": "code",
   "execution_count": 36,
   "id": "052aca76-9006-46b8-81e8-d349a0b20720",
   "metadata": {},
   "outputs": [
    {
     "data": {
      "text/plain": [
       "array([24.102488], dtype=float32)"
      ]
     },
     "execution_count": 36,
     "metadata": {},
     "output_type": "execute_result"
    }
   ],
   "source": [
    "model.predict(X.iloc[[-480]])"
   ]
  },
  {
   "cell_type": "code",
   "execution_count": 37,
   "id": "0774a9bd-e329-464e-9dea-3e6ef0d141ff",
   "metadata": {},
   "outputs": [
    {
     "data": {
      "text/plain": [
       "183337    22.63\n",
       "Name: temp_target, dtype: float64"
      ]
     },
     "execution_count": 37,
     "metadata": {},
     "output_type": "execute_result"
    }
   ],
   "source": [
    "y.iloc[[-480]]"
   ]
  },
  {
   "cell_type": "code",
   "execution_count": 38,
   "id": "2285a8ca-eb27-418c-95ce-5a201da3fda0",
   "metadata": {},
   "outputs": [
    {
     "data": {
      "image/png": "[encoded data removed]",
      "text/plain": [
       "<Figure size 640x480 with 1 Axes>"
      ]
     },
     "metadata": {},
     "output_type": "display_data"
    }
   ],
   "source": [
    "#Examine feature importance to determine which features can be pruned\n",
    "import matplotlib.pyplot as plt\n",
    "\n",
    "xgb.plot_importance(model)\n",
    "plt.show()"
   ]
  },
  {
   "cell_type": "code",
   "execution_count": 39,
   "id": "5078272b",
   "metadata": {},
   "outputs": [
    {
     "name": "stderr",
     "output_type": "stream",
     "text": [
      "c:\\Users\\m_was\\anaconda3\\Lib\\site-packages\\xgboost\\core.py:158: UserWarning: [22:08:53] WARNING: C:\\buildkite-agent\\builds\\buildkite-windows-cpu-autoscaling-group-i-0015a694724fa8361-1\\xgboost\\xgboost-ci-windows\\src\\c_api\\c_api.cc:1374: Saving model in the UBJSON format as default.  You can use file extension: `json`, `ubj` or `deprecated` to choose between formats.\n",
      "  warnings.warn(smsg, UserWarning)\n"
     ]
    }
   ],
   "source": [
    "booster = model.get_booster()\n",
    "booster.feature_names = list(X.columns) \n",
    "booster.save_model(\"model.bst\")"
   ]
  },
  {
   "cell_type": "code",
   "execution_count": 40,
   "id": "9d46745e-1c93-4834-93b0-3a7acd8485c5",
   "metadata": {},
   "outputs": [],
   "source": [
    "# Save the model\n",
    "#joblib.dump(model, \"weather_forecasting_model_stockholm_xgb.pkl\")"
   ]
  },
  {
   "cell_type": "code",
   "execution_count": 41,
   "id": "43b1a5cf-378c-4074-b3c7-407d1ea1f556",
   "metadata": {},
   "outputs": [],
   "source": [
    "#Load the model\n",
    "#model = joblib.load(\"weather_forecasting_model_stockholm_xgb.pkl\")"
   ]
  },
  {
   "cell_type": "code",
   "execution_count": null,
   "id": "188ecb23-8c5a-45b8-847f-14b62f1ca061",
   "metadata": {},
   "outputs": [],
   "source": []
  },
  {
   "cell_type": "code",
   "execution_count": 42,
   "id": "ba28cfb1",
   "metadata": {},
   "outputs": [
    {
     "name": "stdout",
     "output_type": "stream",
     "text": [
      "Mock prediction (next-24h max temp): 18.61°C\n"
     ]
    }
   ],
   "source": [
    "# Predict with a mock sample (using trained XGBRegressor)\n",
    "# Run this after training so `model` and `X` are defined\n",
    "import pandas as pd\n",
    "\n",
    "mock = {\n",
    "    'hour': 14,\n",
    "    'month': 9,\n",
    "    'temp': 18.0,\n",
    "    'humidity': 55.0,\n",
    "    'pressure': 1012.0,\n",
    "    'temp_lag_1': 17.5,\n",
    "    'temp_lag_3': 16.8,\n",
    "}\n",
    "\n",
    "X_mock = pd.DataFrame([mock]).reindex(columns=X.columns)\n",
    "pred = model.predict(X_mock)\n",
    "print(f\"Mock prediction (next-24h max temp): {float(pred[0]):.2f}°C\")\n",
    "\n",
    "# Option: using the saved booster in a fresh session\n",
    "# booster = xgb.Booster()\n",
    "# booster.load_model(\"model.bst\")\n",
    "# y_hat = booster.predict(xgb.DMatrix(X_mock))\n",
    "# print(f\"Mock prediction (booster): {float(y_hat[0]):.2f}°C\")\n"
   ]
  }
 ],
 "metadata": {
  "kernelspec": {
   "display_name": "base",
   "language": "python",
   "name": "python3"
  },
  "language_info": {
   "codemirror_mode": {
    "name": "ipython",
    "version": 3
   },
   "file_extension": ".py",
   "mimetype": "text/x-python",
   "name": "python",
   "nbconvert_exporter": "python",
   "pygments_lexer": "ipython3",
   "version": "3.11.4"
  }
 },
 "nbformat": 4,
 "nbformat_minor": 5
}
